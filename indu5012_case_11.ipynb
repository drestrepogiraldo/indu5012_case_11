{
 "cells": [
  {
   "cell_type": "markdown",
   "source": "# Case 11 - Introduction to Classification and KNN methods",
   "metadata": {
    "cell_id": "dc0efe09-870f-4a05-924b-8de39ce8f217",
    "tags": [],
    "deepnote_cell_type": "markdown"
   }
  },
  {
   "cell_type": "markdown",
   "source": "**Context.** \n\nYou are an analyst at a Colombian EPS. This company has decided that needs to imporove its hability to detect breast cancer.\n\n**Problem.** \n\nYou are requiered to develop a model capable of classifying patients´ tumors into malign or benign\n\n**Analytical Context.** \n\nYou must use a KNN classification method in order to understand the different groups existing in the dataset.",
   "metadata": {
    "cell_id": "323057b9-9aa3-4ba8-a272-a7343eb0dda0",
    "tags": [],
    "deepnote_cell_type": "markdown"
   }
  },
  {
   "cell_type": "markdown",
   "source": "The regression models that we have seen so far are models that assume that the response variable $Y$ is quantitative. However, in some cases the response variable is **qualitative**. The qualitative variables are also called **categorical**, as the response variable for an observation can take a value from one of different categories. For example, eye color is a categorical variable as it can take one of the following values: brown, green or blue. From now on we will see how to approach problems in which a qualitative response has to be predicted. This type of problems are **classification** problems. Predicting a qualitative response for an observation can be referred to as **classifying** that observation, as it involves assigning the observation to a category, or class. Most of the models used for classification first calculate the probability of an observation to belong to each one of the possible categories in order to classify it based on those probabilities. On that account, most of the classification models can be seen as modified regression models that predict probabilities and then classifies based on those probabilities. \n\nAs classification problems have a different purpose than regression problems, the models and metrics used for classification are different than the ones used for regression. In this module we will see the most common metrics used to assess classification models' performance. Additionally, we will talk about the K-nearest neighbors model, which is the most basic classifying model.",
   "metadata": {
    "cell_id": "49a60df9-ad52-4ab8-b3ea-656c4fb09c8e",
    "tags": [],
    "deepnote_cell_type": "markdown"
   }
  },
  {
   "cell_type": "markdown",
   "source": "## Overview on classification problems\n\nClassification problems occur as often, or more often, than regression problems. Some examples of classification problems include: \n\n1. A person enters the emergency room with a set of symptoms that are associated with one of four medical conditions. Which medical condition does the pacient have?   \n2. A banking service application has to classify a transaction that is being made as fraudulent or as non-fraudulent based on the user's past transaction history, the location in which the transaction is being made, and so forth.\n3. Based on the DNA sequence data for a number of patients with and without a given disease, a biologist would like to figure out which DNA mutations are deleterious (disease-causing) and which are not.\n\nJust as in the regression problems, for classification problems we will have a sample which contains the value of the input variables ($\\textbf{x}$) and output variables ($Y$) for the observations that were taken. This dataset can also be divided in a training set, a validation set and a test set. In addition, as in regression problems, the main purpose of the classification models is to perform well on observations that have not been seen by the model.",
   "metadata": {
    "cell_id": "18d65b6d-5c00-4403-9ec1-054707af620d",
    "tags": [],
    "deepnote_cell_type": "markdown"
   }
  },
  {
   "cell_type": "markdown",
   "source": "## Why not linear regression?\n\nWe have stated that linear regression is not an appropriate model for classification problems. But, why not? Suppose, that we are trying to diagnose a patient based on their symptoms. For this example, the only possible diagnostics are drug overdose, epileptic seizure and stroke. Then, the encoding of the values can be encoded as a quantitative response as follows: <center> $\nY = \\left\\{\n    \\begin{matrix}\n        1, \\ \\text {if \\ drug \\ overdose} \\\\\n        2, \\ \\text {if \\ epileptic \\ seizure} \\\\\n        3, \\ \\text {if \\ stroke}\n    \\end{matrix}\n\\right.\n$ </center>\n\nUsing this coding, least squares could be used to fit a linear regression model to predict Y on the basis of a set of predictors $\\textbf{x}_1,...,\\textbf{x}_m$. However, this coding implies an ordering on the outcomes, putting epileptic seizure in between stroke and drug overdose, and stating that the difference between stroke and epileptic seizure is the same as the difference between epileptic seizure and drug overdose. In practice, there is no particular reason for this encoding to be the one to be used. For instance, one could choose another equally reasonable coding which would imply a totally different relationship among the three conditions: <center> $\nY = \\left\\{\n    \\begin{matrix}\n        1, \\ \\text {if \\ epileptic \\ seizure} \\\\\n        2, \\ \\text {if \\ drug \\ overdose} \\\\\n        3, \\ \\text {if \\ stroke}\n    \\end{matrix}\n\\right.\n$ </center>\n\nEach of the possible encodings that can be used for this problem will yield a different least squares estimate. \n\nIf the response variable’s values did take on a natural ordering, such as mild, moderate, and severe, and the gap between mild and moderate was similar to the gap between moderate and severe, then a 1, 2, 3 coding would be reasonable. Unfortunately, in general there is no natural way to convert a qualitative response variable with more than two levels into a quantitative response that is ready for linear regression.\n\nFor a binary qualitative response (a response with two levels), the situation is better. For a binary instance of the previous problem, there are only two possibilities for the patient’s medical condition: stroke and drug overdose. Then, one could then potentially use a dummy variable to code the response as follows:<center> $\nY = \\left\\{\n    \\begin{matrix}\n        0, \\ \\text {if \\ stroke} \\\\\n        1, \\ \\text {if \\ drug \\ overdose} \\\\\n    \\end{matrix}\n\\right.\n$ </center>\n\nThen a linear regression could be fit to this binary response, and predict \"drug overdose\" if $\\hat Y > 0.5$ and \"stroke\" otherwise. In the binary case it is not hard to show that even if we flip the coding above, linear regression will produce the same final predictions. For a binary response with a 0/1 coding as above, regression by least squares does make sense; it can be shown that the $\\textbf{x}\\hat\\beta$ obtained using linear regression is in fact an estimate of $P(drug overdose|X)$. However, if linear regression is used, some of the estimates might be outside the [0, 1] interval, making them hard to interpret as probabilities! Nevertheless, the predictions provide an ordering and can be interpreted as crude probability estimates. However, the dummy variable approach cannot be easily extended to accommodate qualitative responses with more than two levels. For these reasons, it is preferable to use a classification method that is truly suited for qualitative response values, such as the ones presented next.",
   "metadata": {
    "cell_id": "5a0ccafe-2e61-4929-ae63-59b35b3c4337",
    "tags": [],
    "deepnote_cell_type": "markdown"
   }
  },
  {
   "cell_type": "markdown",
   "source": "# K-nearest neighbors\n\nThe $K$-nearest neighbors classifier (KNN) is a very simple approach for a classification problem. Given a positive integer $K$ and a test observation $x_0$, the KNN classifier first identifies the neighbors $K$ points in the training data that are closest to $x_0$, represented by $N_0$. It then estimates the conditional probability for class $j$ as the fraction of points in $N_0$ whose response values equal j:<center> $P(Y=j|\\textbf{x}=x_0)= \\frac{1}{K}\\sum_{i\\in N_0} I(y_i=j)$ </center>\n\nFinally, the classifier classifies the test observation $x_0$ to the class with the higher probability.\n\nThe figure below provides an illustrative example of the KNN approach. \n\n<figure>\n<img src=\"/work/indu5012_case_11/fig/KNN.PNG\" align=\"center\"/> \n\n<figcaption align = \"center\"><b>Fig. 11.1 - KNN illustrative example</b>.<i>Taken from (James, G., Witten, D., Hastie, T., & Tibshirani, R. (2013))</i></figcaption>\n</figure> \n\nIn the left-hand panel, a small training data set consisting of six blue and six orange observations are plotted. The goal is to make a prediction for the point labeled by the black cross. Suppose that we choose $K$ = 3. Then, KNN will first identify the three observations that are closest to the cross. This neighborhood is shown as a circle. It consists of two blue points and one orange point, resulting in estimated probabilities of 2/3 for the blue class and 1/3 for the orange class. Hence, KNN will predict that the black cross belongs to the blue class. In the right-hand panel of the figure the KNN approach with K = 3 was applied at all of the possible values for X1 and X2, and the  corresponding KNN decision boundary was drawn.\n\nThe choice of $K$ has a drastic effect on the KNN classifier obtained. The figure below displays two KNN fits to a simulated dataset using K = 1 and K = 100:\n\n<figure>\n<img src=\"/work/indu5012_case_11/fig/KNN_comparison.PNG\" align=\"center\"/> \n\n<figcaption align = \"center\"><b>Fig. 11.2 - KNN comparison when using K=1 and K=100</b>.<i>Taken from (James, G., Witten, D., Hastie, T., & Tibshirani, R. (2013))</i></figcaption>\n</figure> \n\nWhen K = 1, the decision boundary is very flexible. This corresponds to a classifier that has low bias but very high variance. As K grows, the method becomes less flexible and produces a decision boundary that is close to linear. This corresponds to a low-variance but high-bias classifier. On this simulated data set, neither K = 1 nor K = 100 give good predictions: they have validation error rates of 0.1695 and 0.1925, respectively. Just as in the regression setting, there is not a strong relationship between the training error rate and the test error rate. With K = 1, the\nKNN training error rate is 0, but the test error rate may be quite high. In general, as we use more flexible classification methods, the training error rate will decline but the test error rate may not. In the figure below, we have the KNN test and training errors as a function of 1/K were plotted\n\n<figure>\n<img src=\"/work/indu5012_case_11/fig/KNN_error.PNG\" align=\"center\"/> \n\n<figcaption align = \"center\"><b>Fig. 11.3 - KNN error rates when using different values of K</b>.<i>Taken from (James, G., Witten, D., Hastie, T., & Tibshirani, R. (2013))</i></figcaption>\n</figure> \n\n\nAs 1/K increases, the method becomes more flexible. As in the regression setting, the training error rate consistently declines as the flexibility increases. However, the test error exhibits a characteristic U-shape, declining at first (with a minimum at approximately K = 10) before increasing again when the method becomes excessively flexible and overfits.\n",
   "metadata": {
    "cell_id": "4bd4505b-eb03-41aa-beac-dd6f8671323a",
    "tags": [],
    "deepnote_cell_type": "markdown"
   }
  },
  {
   "cell_type": "markdown",
   "source": "## Performance metrics for classification problems\n\nAs classification problems differ from regression problems in intention, the metrics used in regression problems cannot be used in classification problems. The metrics used in classification problems differ greatly from one another in their intention. In order to define the way to calculate every matrix, let us examine the **confusion matrix** first. This matrix allows to visualize the correct and incorrect classifications that result from our model. \n<center>\n<table>\n    <thead>\n        <tr>\n            <th></th>\n            <th></th>\n            <th colspan=2 ><center>Actual Values </center></th>\n        </tr>\n        <tr>\n            <th></th>\n            <th></th>\n            <th><center>Negative (0)</th>\n            <th><center>Positive (1)</th>\n        </tr>\n    </thead>\n    <tbody>\n        <tr>\n            <td rowspan=2><b>Predicted values </b></td>\n            <td><center><b>Negative (0)</td>\n            <td><center>True Negatives (TN)</td>\n            <td><center>False Negatives (FN)</td>\n        </tr>\n        <tr>\n            <td><center><b>Positive (1)</td>\n            <td><center>False Positives (FP)</td>\n            <td><center>True Positives (TP)</td>\n    </tbody>\n</table>\n</center>\n\nAs it can be seen, it is wanted that most of the values in the sample fall on the diagonal values of the matrix, as that would mean that most of the observations on the sample were correctly classified. Using the notation present on the confusion matrix, let us take a look at the different performance metrics that can be used for classification problems.\n\nThe first metric is a very basic one, the **accuracy** of the model. The accuracy measures the proportion of observations that were classified correctly: <center> $\\text{Accuracy}=  \\frac{TP+TN}{TP+FP+TN+FN}$ </center>  \n\nAccuracy is simple to calculate but has its own disadvantages. If the data set is highly imbalanced, and the model classifies all the data points as the majority class data points, the accuracy will be high. This makes accuracy not a reliable performance metric for imbalanced data. For example, if 90% of the data were positives, then a classifier that predicts all of the observations as positive would then have an accuracy of 90%, but this would not mean that the classifier is a good one. \n\nThe second metric is the **precision**. Precision measures the proportion of observations predicted as positives thet were correctly classified. The precision is calculated as following: <center> $\\text{Precision}=  \\frac{TP}{TP+FP}$ </center>\n\nIf your classification problem is one in which it is really important that the observations that are classified as positives are truly positives, then the precision score might be the most relevant metric to measure the classification model's performance. An example of a problem in which the precision score is really important is one in which the objective is to classify people on trial as guilty or not; in this problem it is wanted that people classified as guilty are truly guilty.\n\nThe third metric is the **recall**. Recall measures the proportion of positives thet were correctly classified. The recall is calculated as following: <center> $\\text{Recall}=  \\frac{TP}{TP+FN}$ </center>\n\nIf your classification problem is one in which it is much more important to correctly classify the positives, then the recall score might be the most relevant metric to measure the classification model's performance. An example of a problem in which the recall might be a very important metric is one in which people have to be classified as having covid or not having covid; in this problem it is wanted that most of the people that have covid are correctly classified.\n\nThe fourth metric is the **f1 score**. The f1 score is the harmonic mean of the recall and the precision of the model. The f1 socre is calculated as following: <center> $f_1=  \\frac{2precision*recall}{precision+recall}$ </center>\n\nThe f1 score takes values from 0 (when either the recall or the precision is equal to 0) to 1 (when both precision and recall are equal to 1).\n\nThe fifth metric is the area under the curve (**AUC**) of the Receiver Operating Characteristic (ROC) curve. The ROC curve is a curve that allows one to summarize all of the confusion matrices that a model can create by changing its classification threshold. The classification threshold is the cutoff point for the calculated probability that separates the observations classsified as positive and the observations classified as negative. For example, if the cut-off is 0.6, only the observation with a probability of being positive of over 60% are classified as positive and the other ones are classified as negative. The ROC curve is a plot that on the x-axis plots the false positive rate ($FPR=\\frac{FP}{TN+FP}$) and on the y-axis plots the recall (or sensitivity) of the model. An example for a ROC curve can be seen below:\n\n<figure>\n<img src=\"/work/indu5012_case_11/fig/ROC.PNG\" align=\"center\"/> \n\n<figcaption align = \"center\"><b>Fig. 5.4 - ROC curve example for a LDA model</b>.<i>Taken from (James, G., Witten, D., Hastie, T., & Tibshirani, R. (2013))</i></figcaption>\n</figure> \n\nAs one would prefer to have the highest true positive rate (recall) and the lowest false positive rate, the one would prefer one's model to have values up and to the left on the ROC curve. Taking that into account, one can calculate the area under the ROC curve to measure how aup and to the left the results of a model are. As one model will generate one ROC, the AUC can be used to compare different types of models.\n \n\n",
   "metadata": {
    "cell_id": "59e0af9f-aed7-4a79-9681-b2349b511265",
    "tags": [],
    "deepnote_cell_type": "markdown"
   }
  },
  {
   "cell_type": "markdown",
   "source": "## K-nearest neighbors example\n\nAfter seeing the some metrics to measure the performance of a classification model and after seeing the K-nearest neighbors classifier, lest us see an example of how to choose the best KNN model based on different metrics. For this purpose, we are going to use a dataset that has 569 observations of people that had either a benign or a malignat tumor in their breast.",
   "metadata": {
    "cell_id": "c0eba8af-3a60-4fdd-8b00-4b780e49a02d",
    "tags": [],
    "deepnote_cell_type": "markdown"
   }
  },
  {
   "cell_type": "markdown",
   "source": "### Data Import",
   "metadata": {
    "cell_id": "71235a2e-17d5-40a1-a1c5-ae0bf6c26cfb",
    "tags": [],
    "deepnote_cell_type": "markdown"
   }
  },
  {
   "cell_type": "code",
   "metadata": {
    "cell_id": "24d33248-1168-4164-8165-0f35ea106c97",
    "tags": [],
    "deepnote_to_be_reexecuted": false,
    "source_hash": "64877b7f",
    "execution_start": 1646662885707,
    "execution_millis": 82,
    "deepnote_cell_type": "code"
   },
   "source": "#Importing libraries\nfrom sklearn.datasets import load_breast_cancer\nimport pandas as pd\nimport numpy as np\nimport seaborn as sns\n\ncancer_data = load_breast_cancer()\ndf_cancer = pd.DataFrame(cancer_data.data,columns=cancer_data.feature_names)\ndf_cancer['Tumor'] = pd.Series(cancer_data.target)",
   "execution_count": 11,
   "outputs": []
  },
  {
   "cell_type": "markdown",
   "source": "### EDA",
   "metadata": {
    "cell_id": "d0dc0788-49e9-4645-ae1d-8953d7f078ce",
    "tags": [],
    "deepnote_cell_type": "markdown"
   }
  },
  {
   "cell_type": "code",
   "source": "df_cancer.head(5)",
   "metadata": {
    "cell_id": "136a5723-c057-495a-acea-8923b061d6e3",
    "tags": [],
    "deepnote_to_be_reexecuted": false,
    "source_hash": "91278cdd",
    "execution_start": 1646662617249,
    "execution_millis": 66,
    "deepnote_cell_type": "code"
   },
   "outputs": [
    {
     "output_type": "execute_result",
     "execution_count": 9,
     "data": {
      "application/vnd.deepnote.dataframe.v3+json": {
       "column_count": 31,
       "row_count": 5,
       "columns": [
        {
         "name": "mean radius",
         "dtype": "float64",
         "stats": {
          "unique_count": 5,
          "nan_count": 0,
          "min": "11.42",
          "max": "20.57",
          "histogram": [
           {
            "bin_start": 11.42,
            "bin_end": 12.335,
            "count": 1
           },
           {
            "bin_start": 12.335,
            "bin_end": 13.25,
            "count": 0
           },
           {
            "bin_start": 13.25,
            "bin_end": 14.165,
            "count": 0
           },
           {
            "bin_start": 14.165,
            "bin_end": 15.08,
            "count": 0
           },
           {
            "bin_start": 15.08,
            "bin_end": 15.995000000000001,
            "count": 0
           },
           {
            "bin_start": 15.995000000000001,
            "bin_end": 16.91,
            "count": 0
           },
           {
            "bin_start": 16.91,
            "bin_end": 17.825,
            "count": 0
           },
           {
            "bin_start": 17.825,
            "bin_end": 18.740000000000002,
            "count": 1
           },
           {
            "bin_start": 18.740000000000002,
            "bin_end": 19.655,
            "count": 0
           },
           {
            "bin_start": 19.655,
            "bin_end": 20.57,
            "count": 3
           }
          ]
         }
        },
        {
         "name": "mean texture",
         "dtype": "float64",
         "stats": {
          "unique_count": 5,
          "nan_count": 0,
          "min": "10.38",
          "max": "21.25",
          "histogram": [
           {
            "bin_start": 10.38,
            "bin_end": 11.467,
            "count": 1
           },
           {
            "bin_start": 11.467,
            "bin_end": 12.554,
            "count": 0
           },
           {
            "bin_start": 12.554,
            "bin_end": 13.641000000000002,
            "count": 0
           },
           {
            "bin_start": 13.641000000000002,
            "bin_end": 14.728000000000002,
            "count": 1
           },
           {
            "bin_start": 14.728000000000002,
            "bin_end": 15.815000000000001,
            "count": 0
           },
           {
            "bin_start": 15.815000000000001,
            "bin_end": 16.902,
            "count": 0
           },
           {
            "bin_start": 16.902,
            "bin_end": 17.989,
            "count": 1
           },
           {
            "bin_start": 17.989,
            "bin_end": 19.076,
            "count": 0
           },
           {
            "bin_start": 19.076,
            "bin_end": 20.163,
            "count": 0
           },
           {
            "bin_start": 20.163,
            "bin_end": 21.25,
            "count": 2
           }
          ]
         }
        },
        {
         "name": "mean perimeter",
         "dtype": "float64",
         "stats": {
          "unique_count": 5,
          "nan_count": 0,
          "min": "77.58",
          "max": "135.1",
          "histogram": [
           {
            "bin_start": 77.58,
            "bin_end": 83.332,
            "count": 1
           },
           {
            "bin_start": 83.332,
            "bin_end": 89.084,
            "count": 0
           },
           {
            "bin_start": 89.084,
            "bin_end": 94.836,
            "count": 0
           },
           {
            "bin_start": 94.836,
            "bin_end": 100.588,
            "count": 0
           },
           {
            "bin_start": 100.588,
            "bin_end": 106.34,
            "count": 0
           },
           {
            "bin_start": 106.34,
            "bin_end": 112.092,
            "count": 0
           },
           {
            "bin_start": 112.092,
            "bin_end": 117.844,
            "count": 0
           },
           {
            "bin_start": 117.844,
            "bin_end": 123.596,
            "count": 1
           },
           {
            "bin_start": 123.596,
            "bin_end": 129.348,
            "count": 0
           },
           {
            "bin_start": 129.348,
            "bin_end": 135.1,
            "count": 3
           }
          ]
         }
        },
        {
         "name": "mean area",
         "dtype": "float64",
         "stats": {
          "unique_count": 5,
          "nan_count": 0,
          "min": "386.1",
          "max": "1326.0",
          "histogram": [
           {
            "bin_start": 386.1,
            "bin_end": 480.09000000000003,
            "count": 1
           },
           {
            "bin_start": 480.09000000000003,
            "bin_end": 574.08,
            "count": 0
           },
           {
            "bin_start": 574.08,
            "bin_end": 668.0699999999999,
            "count": 0
           },
           {
            "bin_start": 668.0699999999999,
            "bin_end": 762.06,
            "count": 0
           },
           {
            "bin_start": 762.06,
            "bin_end": 856.05,
            "count": 0
           },
           {
            "bin_start": 856.05,
            "bin_end": 950.04,
            "count": 0
           },
           {
            "bin_start": 950.04,
            "bin_end": 1044.03,
            "count": 1
           },
           {
            "bin_start": 1044.03,
            "bin_end": 1138.02,
            "count": 0
           },
           {
            "bin_start": 1138.02,
            "bin_end": 1232.01,
            "count": 1
           },
           {
            "bin_start": 1232.01,
            "bin_end": 1326,
            "count": 2
           }
          ]
         }
        },
        {
         "name": "mean smoothness",
         "dtype": "float64",
         "stats": {
          "unique_count": 5,
          "nan_count": 0,
          "min": "0.08474",
          "max": "0.1425",
          "histogram": [
           {
            "bin_start": 0.08474,
            "bin_end": 0.090516,
            "count": 1
           },
           {
            "bin_start": 0.090516,
            "bin_end": 0.09629199999999999,
            "count": 0
           },
           {
            "bin_start": 0.09629199999999999,
            "bin_end": 0.10206799999999999,
            "count": 1
           },
           {
            "bin_start": 0.10206799999999999,
            "bin_end": 0.107844,
            "count": 0
           },
           {
            "bin_start": 0.107844,
            "bin_end": 0.11362,
            "count": 1
           },
           {
            "bin_start": 0.11362,
            "bin_end": 0.11939599999999999,
            "count": 1
           },
           {
            "bin_start": 0.11939599999999999,
            "bin_end": 0.125172,
            "count": 0
           },
           {
            "bin_start": 0.125172,
            "bin_end": 0.13094799999999998,
            "count": 0
           },
           {
            "bin_start": 0.13094799999999998,
            "bin_end": 0.13672399999999998,
            "count": 0
           },
           {
            "bin_start": 0.13672399999999998,
            "bin_end": 0.1425,
            "count": 1
           }
          ]
         }
        },
        {
         "name": "mean compactness",
         "dtype": "float64",
         "stats": {
          "unique_count": 5,
          "nan_count": 0,
          "min": "0.07864",
          "max": "0.2839",
          "histogram": [
           {
            "bin_start": 0.07864,
            "bin_end": 0.099166,
            "count": 1
           },
           {
            "bin_start": 0.099166,
            "bin_end": 0.11969199999999999,
            "count": 0
           },
           {
            "bin_start": 0.11969199999999999,
            "bin_end": 0.140218,
            "count": 1
           },
           {
            "bin_start": 0.140218,
            "bin_end": 0.160744,
            "count": 1
           },
           {
            "bin_start": 0.160744,
            "bin_end": 0.18127,
            "count": 0
           },
           {
            "bin_start": 0.18127,
            "bin_end": 0.20179599999999998,
            "count": 0
           },
           {
            "bin_start": 0.20179599999999998,
            "bin_end": 0.22232200000000002,
            "count": 0
           },
           {
            "bin_start": 0.22232200000000002,
            "bin_end": 0.242848,
            "count": 0
           },
           {
            "bin_start": 0.242848,
            "bin_end": 0.263374,
            "count": 0
           },
           {
            "bin_start": 0.263374,
            "bin_end": 0.2839,
            "count": 2
           }
          ]
         }
        },
        {
         "name": "mean concavity",
         "dtype": "float64",
         "stats": {
          "unique_count": 5,
          "nan_count": 0,
          "min": "0.0869",
          "max": "0.3001",
          "histogram": [
           {
            "bin_start": 0.0869,
            "bin_end": 0.10822000000000001,
            "count": 1
           },
           {
            "bin_start": 0.10822000000000001,
            "bin_end": 0.12954,
            "count": 0
           },
           {
            "bin_start": 0.12954,
            "bin_end": 0.15086,
            "count": 0
           },
           {
            "bin_start": 0.15086,
            "bin_end": 0.17218,
            "count": 0
           },
           {
            "bin_start": 0.17218,
            "bin_end": 0.1935,
            "count": 0
           },
           {
            "bin_start": 0.1935,
            "bin_end": 0.21481999999999998,
            "count": 2
           },
           {
            "bin_start": 0.21481999999999998,
            "bin_end": 0.23614,
            "count": 0
           },
           {
            "bin_start": 0.23614,
            "bin_end": 0.25746,
            "count": 1
           },
           {
            "bin_start": 0.25746,
            "bin_end": 0.27878000000000003,
            "count": 0
           },
           {
            "bin_start": 0.27878000000000003,
            "bin_end": 0.3001,
            "count": 1
           }
          ]
         }
        },
        {
         "name": "mean concave points",
         "dtype": "float64",
         "stats": {
          "unique_count": 5,
          "nan_count": 0,
          "min": "0.07017",
          "max": "0.1471",
          "histogram": [
           {
            "bin_start": 0.07017,
            "bin_end": 0.077863,
            "count": 1
           },
           {
            "bin_start": 0.077863,
            "bin_end": 0.085556,
            "count": 0
           },
           {
            "bin_start": 0.085556,
            "bin_end": 0.093249,
            "count": 0
           },
           {
            "bin_start": 0.093249,
            "bin_end": 0.100942,
            "count": 0
           },
           {
            "bin_start": 0.100942,
            "bin_end": 0.10863500000000001,
            "count": 2
           },
           {
            "bin_start": 0.10863500000000001,
            "bin_end": 0.116328,
            "count": 0
           },
           {
            "bin_start": 0.116328,
            "bin_end": 0.124021,
            "count": 0
           },
           {
            "bin_start": 0.124021,
            "bin_end": 0.131714,
            "count": 1
           },
           {
            "bin_start": 0.131714,
            "bin_end": 0.139407,
            "count": 0
           },
           {
            "bin_start": 0.139407,
            "bin_end": 0.1471,
            "count": 1
           }
          ]
         }
        },
        {
         "name": "mean symmetry",
         "dtype": "float64",
         "stats": {
          "unique_count": 5,
          "nan_count": 0,
          "min": "0.1809",
          "max": "0.2597",
          "histogram": [
           {
            "bin_start": 0.1809,
            "bin_end": 0.18878,
            "count": 2
           },
           {
            "bin_start": 0.18878,
            "bin_end": 0.19666,
            "count": 0
           },
           {
            "bin_start": 0.19666,
            "bin_end": 0.20454,
            "count": 0
           },
           {
            "bin_start": 0.20454,
            "bin_end": 0.21242,
            "count": 1
           },
           {
            "bin_start": 0.21242,
            "bin_end": 0.2203,
            "count": 0
           },
           {
            "bin_start": 0.2203,
            "bin_end": 0.22818,
            "count": 0
           },
           {
            "bin_start": 0.22818,
            "bin_end": 0.23606,
            "count": 0
           },
           {
            "bin_start": 0.23606,
            "bin_end": 0.24394,
            "count": 1
           },
           {
            "bin_start": 0.24394,
            "bin_end": 0.25182,
            "count": 0
           },
           {
            "bin_start": 0.25182,
            "bin_end": 0.2597,
            "count": 1
           }
          ]
         }
        },
        {
         "name": "mean fractal dimension",
         "dtype": "float64",
         "stats": {
          "unique_count": 5,
          "nan_count": 0,
          "min": "0.05667",
          "max": "0.09744",
          "histogram": [
           {
            "bin_start": 0.05667,
            "bin_end": 0.060746999999999995,
            "count": 3
           },
           {
            "bin_start": 0.060746999999999995,
            "bin_end": 0.06482399999999999,
            "count": 0
           },
           {
            "bin_start": 0.06482399999999999,
            "bin_end": 0.06890099999999999,
            "count": 0
           },
           {
            "bin_start": 0.06890099999999999,
            "bin_end": 0.072978,
            "count": 0
           },
           {
            "bin_start": 0.072978,
            "bin_end": 0.077055,
            "count": 0
           },
           {
            "bin_start": 0.077055,
            "bin_end": 0.081132,
            "count": 1
           },
           {
            "bin_start": 0.081132,
            "bin_end": 0.085209,
            "count": 0
           },
           {
            "bin_start": 0.085209,
            "bin_end": 0.089286,
            "count": 0
           },
           {
            "bin_start": 0.089286,
            "bin_end": 0.093363,
            "count": 0
           },
           {
            "bin_start": 0.093363,
            "bin_end": 0.09744,
            "count": 1
           }
          ]
         }
        },
        {
         "name": "radius error",
         "dtype": "float64",
         "stats": {
          "unique_count": 5,
          "nan_count": 0,
          "min": "0.4956",
          "max": "1.095",
          "histogram": [
           {
            "bin_start": 0.4956,
            "bin_end": 0.5555399999999999,
            "count": 2
           },
           {
            "bin_start": 0.5555399999999999,
            "bin_end": 0.61548,
            "count": 0
           },
           {
            "bin_start": 0.61548,
            "bin_end": 0.6754199999999999,
            "count": 0
           },
           {
            "bin_start": 0.6754199999999999,
            "bin_end": 0.73536,
            "count": 0
           },
           {
            "bin_start": 0.73536,
            "bin_end": 0.7952999999999999,
            "count": 2
           },
           {
            "bin_start": 0.7952999999999999,
            "bin_end": 0.85524,
            "count": 0
           },
           {
            "bin_start": 0.85524,
            "bin_end": 0.9151799999999999,
            "count": 0
           },
           {
            "bin_start": 0.9151799999999999,
            "bin_end": 0.97512,
            "count": 0
           },
           {
            "bin_start": 0.97512,
            "bin_end": 1.0350599999999999,
            "count": 0
           },
           {
            "bin_start": 1.0350599999999999,
            "bin_end": 1.095,
            "count": 1
           }
          ]
         }
        },
        {
         "name": "texture error",
         "dtype": "float64",
         "stats": {
          "unique_count": 5,
          "nan_count": 0,
          "min": "0.7339",
          "max": "1.156",
          "histogram": [
           {
            "bin_start": 0.7339,
            "bin_end": 0.77611,
            "count": 1
           },
           {
            "bin_start": 0.77611,
            "bin_end": 0.8183199999999999,
            "count": 2
           },
           {
            "bin_start": 0.8183199999999999,
            "bin_end": 0.86053,
            "count": 0
           },
           {
            "bin_start": 0.86053,
            "bin_end": 0.90274,
            "count": 0
           },
           {
            "bin_start": 0.90274,
            "bin_end": 0.94495,
            "count": 1
           },
           {
            "bin_start": 0.94495,
            "bin_end": 0.9871599999999999,
            "count": 0
           },
           {
            "bin_start": 0.9871599999999999,
            "bin_end": 1.02937,
            "count": 0
           },
           {
            "bin_start": 1.02937,
            "bin_end": 1.07158,
            "count": 0
           },
           {
            "bin_start": 1.07158,
            "bin_end": 1.1137899999999998,
            "count": 0
           },
           {
            "bin_start": 1.1137899999999998,
            "bin_end": 1.156,
            "count": 1
           }
          ]
         }
        },
        {
         "name": "perimeter error",
         "dtype": "float64",
         "stats": {
          "unique_count": 5,
          "nan_count": 0,
          "min": "3.398",
          "max": "8.589",
          "histogram": [
           {
            "bin_start": 3.398,
            "bin_end": 3.9171000000000005,
            "count": 2
           },
           {
            "bin_start": 3.9171000000000005,
            "bin_end": 4.4362,
            "count": 0
           },
           {
            "bin_start": 4.4362,
            "bin_end": 4.9553,
            "count": 1
           },
           {
            "bin_start": 4.9553,
            "bin_end": 5.474400000000001,
            "count": 1
           },
           {
            "bin_start": 5.474400000000001,
            "bin_end": 5.993500000000001,
            "count": 0
           },
           {
            "bin_start": 5.993500000000001,
            "bin_end": 6.512600000000001,
            "count": 0
           },
           {
            "bin_start": 6.512600000000001,
            "bin_end": 7.031700000000001,
            "count": 0
           },
           {
            "bin_start": 7.031700000000001,
            "bin_end": 7.550800000000001,
            "count": 0
           },
           {
            "bin_start": 7.550800000000001,
            "bin_end": 8.0699,
            "count": 0
           },
           {
            "bin_start": 8.0699,
            "bin_end": 8.589,
            "count": 1
           }
          ]
         }
        },
        {
         "name": "area error",
         "dtype": "float64",
         "stats": {
          "unique_count": 5,
          "nan_count": 0,
          "min": "27.23",
          "max": "153.4",
          "histogram": [
           {
            "bin_start": 27.23,
            "bin_end": 39.847,
            "count": 1
           },
           {
            "bin_start": 39.847,
            "bin_end": 52.464,
            "count": 0
           },
           {
            "bin_start": 52.464,
            "bin_end": 65.081,
            "count": 0
           },
           {
            "bin_start": 65.081,
            "bin_end": 77.69800000000001,
            "count": 1
           },
           {
            "bin_start": 77.69800000000001,
            "bin_end": 90.31500000000001,
            "count": 0
           },
           {
            "bin_start": 90.31500000000001,
            "bin_end": 102.932,
            "count": 2
           },
           {
            "bin_start": 102.932,
            "bin_end": 115.549,
            "count": 0
           },
           {
            "bin_start": 115.549,
            "bin_end": 128.166,
            "count": 0
           },
           {
            "bin_start": 128.166,
            "bin_end": 140.78300000000002,
            "count": 0
           },
           {
            "bin_start": 140.78300000000002,
            "bin_end": 153.4,
            "count": 1
           }
          ]
         }
        },
        {
         "name": "smoothness error",
         "dtype": "float64",
         "stats": {
          "unique_count": 5,
          "nan_count": 0,
          "min": "0.005225",
          "max": "0.01149",
          "histogram": [
           {
            "bin_start": 0.005225,
            "bin_end": 0.0058515,
            "count": 1
           },
           {
            "bin_start": 0.0058515,
            "bin_end": 0.006477999999999999,
            "count": 2
           },
           {
            "bin_start": 0.006477999999999999,
            "bin_end": 0.0071045,
            "count": 0
           },
           {
            "bin_start": 0.0071045,
            "bin_end": 0.007731,
            "count": 0
           },
           {
            "bin_start": 0.007731,
            "bin_end": 0.0083575,
            "count": 0
           },
           {
            "bin_start": 0.0083575,
            "bin_end": 0.008984,
            "count": 0
           },
           {
            "bin_start": 0.008984,
            "bin_end": 0.009610500000000001,
            "count": 1
           },
           {
            "bin_start": 0.009610500000000001,
            "bin_end": 0.010237,
            "count": 0
           },
           {
            "bin_start": 0.010237,
            "bin_end": 0.010863500000000002,
            "count": 0
           },
           {
            "bin_start": 0.010863500000000002,
            "bin_end": 0.01149,
            "count": 1
           }
          ]
         }
        },
        {
         "name": "compactness error",
         "dtype": "float64",
         "stats": {
          "unique_count": 5,
          "nan_count": 0,
          "min": "0.01308",
          "max": "0.07458",
          "histogram": [
           {
            "bin_start": 0.01308,
            "bin_end": 0.019229999999999997,
            "count": 1
           },
           {
            "bin_start": 0.019229999999999997,
            "bin_end": 0.02538,
            "count": 1
           },
           {
            "bin_start": 0.02538,
            "bin_end": 0.031529999999999996,
            "count": 0
           },
           {
            "bin_start": 0.031529999999999996,
            "bin_end": 0.03768,
            "count": 0
           },
           {
            "bin_start": 0.03768,
            "bin_end": 0.043829999999999994,
            "count": 1
           },
           {
            "bin_start": 0.043829999999999994,
            "bin_end": 0.04998,
            "count": 1
           },
           {
            "bin_start": 0.04998,
            "bin_end": 0.05612999999999999,
            "count": 0
           },
           {
            "bin_start": 0.05612999999999999,
            "bin_end": 0.062279999999999995,
            "count": 0
           },
           {
            "bin_start": 0.062279999999999995,
            "bin_end": 0.06842999999999999,
            "count": 0
           },
           {
            "bin_start": 0.06842999999999999,
            "bin_end": 0.07458,
            "count": 1
           }
          ]
         }
        },
        {
         "name": "concavity error",
         "dtype": "float64",
         "stats": {
          "unique_count": 5,
          "nan_count": 0,
          "min": "0.0186",
          "max": "0.05688",
          "histogram": [
           {
            "bin_start": 0.0186,
            "bin_end": 0.022428,
            "count": 1
           },
           {
            "bin_start": 0.022428,
            "bin_end": 0.026255999999999998,
            "count": 0
           },
           {
            "bin_start": 0.026255999999999998,
            "bin_end": 0.030084,
            "count": 0
           },
           {
            "bin_start": 0.030084,
            "bin_end": 0.033912,
            "count": 0
           },
           {
            "bin_start": 0.033912,
            "bin_end": 0.037739999999999996,
            "count": 0
           },
           {
            "bin_start": 0.037739999999999996,
            "bin_end": 0.041568,
            "count": 1
           },
           {
            "bin_start": 0.041568,
            "bin_end": 0.045396,
            "count": 0
           },
           {
            "bin_start": 0.045396,
            "bin_end": 0.049224000000000004,
            "count": 0
           },
           {
            "bin_start": 0.049224000000000004,
            "bin_end": 0.053052,
            "count": 0
           },
           {
            "bin_start": 0.053052,
            "bin_end": 0.05688,
            "count": 3
           }
          ]
         }
        },
        {
         "name": "concave points error",
         "dtype": "float64",
         "stats": {
          "unique_count": 5,
          "nan_count": 0,
          "min": "0.0134",
          "max": "0.02058",
          "histogram": [
           {
            "bin_start": 0.0134,
            "bin_end": 0.014118,
            "count": 1
           },
           {
            "bin_start": 0.014118,
            "bin_end": 0.014836,
            "count": 0
           },
           {
            "bin_start": 0.014836,
            "bin_end": 0.015554000000000002,
            "count": 0
           },
           {
            "bin_start": 0.015554000000000002,
            "bin_end": 0.016272000000000002,
            "count": 1
           },
           {
            "bin_start": 0.016272000000000002,
            "bin_end": 0.01699,
            "count": 0
           },
           {
            "bin_start": 0.01699,
            "bin_end": 0.017708,
            "count": 0
           },
           {
            "bin_start": 0.017708,
            "bin_end": 0.018426,
            "count": 0
           },
           {
            "bin_start": 0.018426,
            "bin_end": 0.019144,
            "count": 2
           },
           {
            "bin_start": 0.019144,
            "bin_end": 0.019862,
            "count": 0
           },
           {
            "bin_start": 0.019862,
            "bin_end": 0.02058,
            "count": 1
           }
          ]
         }
        },
        {
         "name": "symmetry error",
         "dtype": "float64",
         "stats": {
          "unique_count": 5,
          "nan_count": 0,
          "min": "0.01389",
          "max": "0.05963",
          "histogram": [
           {
            "bin_start": 0.01389,
            "bin_end": 0.018464,
            "count": 2
           },
           {
            "bin_start": 0.018464,
            "bin_end": 0.023038,
            "count": 1
           },
           {
            "bin_start": 0.023038,
            "bin_end": 0.027611999999999998,
            "count": 0
           },
           {
            "bin_start": 0.027611999999999998,
            "bin_end": 0.032186,
            "count": 1
           },
           {
            "bin_start": 0.032186,
            "bin_end": 0.03676,
            "count": 0
           },
           {
            "bin_start": 0.03676,
            "bin_end": 0.041333999999999996,
            "count": 0
           },
           {
            "bin_start": 0.041333999999999996,
            "bin_end": 0.045908,
            "count": 0
           },
           {
            "bin_start": 0.045908,
            "bin_end": 0.050482,
            "count": 0
           },
           {
            "bin_start": 0.050482,
            "bin_end": 0.055056,
            "count": 0
           },
           {
            "bin_start": 0.055056,
            "bin_end": 0.05963,
            "count": 1
           }
          ]
         }
        },
        {
         "name": "fractal dimension error",
         "dtype": "float64",
         "stats": {
          "unique_count": 5,
          "nan_count": 0,
          "min": "0.003532",
          "max": "0.009208",
          "histogram": [
           {
            "bin_start": 0.003532,
            "bin_end": 0.0040996,
            "count": 1
           },
           {
            "bin_start": 0.0040996,
            "bin_end": 0.0046672,
            "count": 1
           },
           {
            "bin_start": 0.0046672,
            "bin_end": 0.0052347999999999995,
            "count": 1
           },
           {
            "bin_start": 0.0052347999999999995,
            "bin_end": 0.005802399999999999,
            "count": 0
           },
           {
            "bin_start": 0.005802399999999999,
            "bin_end": 0.006369999999999999,
            "count": 1
           },
           {
            "bin_start": 0.006369999999999999,
            "bin_end": 0.0069375999999999995,
            "count": 0
           },
           {
            "bin_start": 0.0069375999999999995,
            "bin_end": 0.0075052,
            "count": 0
           },
           {
            "bin_start": 0.0075052,
            "bin_end": 0.0080728,
            "count": 0
           },
           {
            "bin_start": 0.0080728,
            "bin_end": 0.0086404,
            "count": 0
           },
           {
            "bin_start": 0.0086404,
            "bin_end": 0.009208,
            "count": 1
           }
          ]
         }
        },
        {
         "name": "worst radius",
         "dtype": "float64",
         "stats": {
          "unique_count": 5,
          "nan_count": 0,
          "min": "14.91",
          "max": "25.38",
          "histogram": [
           {
            "bin_start": 14.91,
            "bin_end": 15.957,
            "count": 1
           },
           {
            "bin_start": 15.957,
            "bin_end": 17.004,
            "count": 0
           },
           {
            "bin_start": 17.004,
            "bin_end": 18.051000000000002,
            "count": 0
           },
           {
            "bin_start": 18.051000000000002,
            "bin_end": 19.098,
            "count": 0
           },
           {
            "bin_start": 19.098,
            "bin_end": 20.145,
            "count": 0
           },
           {
            "bin_start": 20.145,
            "bin_end": 21.192,
            "count": 0
           },
           {
            "bin_start": 21.192,
            "bin_end": 22.239,
            "count": 0
           },
           {
            "bin_start": 22.239,
            "bin_end": 23.286,
            "count": 1
           },
           {
            "bin_start": 23.286,
            "bin_end": 24.333,
            "count": 1
           },
           {
            "bin_start": 24.333,
            "bin_end": 25.38,
            "count": 2
           }
          ]
         }
        },
        {
         "name": "worst texture",
         "dtype": "float64",
         "stats": {
          "unique_count": 5,
          "nan_count": 0,
          "min": "16.67",
          "max": "26.5",
          "histogram": [
           {
            "bin_start": 16.67,
            "bin_end": 17.653000000000002,
            "count": 2
           },
           {
            "bin_start": 17.653000000000002,
            "bin_end": 18.636000000000003,
            "count": 0
           },
           {
            "bin_start": 18.636000000000003,
            "bin_end": 19.619,
            "count": 0
           },
           {
            "bin_start": 19.619,
            "bin_end": 20.602,
            "count": 0
           },
           {
            "bin_start": 20.602,
            "bin_end": 21.585,
            "count": 0
           },
           {
            "bin_start": 21.585,
            "bin_end": 22.568,
            "count": 0
           },
           {
            "bin_start": 22.568,
            "bin_end": 23.551000000000002,
            "count": 1
           },
           {
            "bin_start": 23.551000000000002,
            "bin_end": 24.534,
            "count": 0
           },
           {
            "bin_start": 24.534,
            "bin_end": 25.517000000000003,
            "count": 0
           },
           {
            "bin_start": 25.517000000000003,
            "bin_end": 26.5,
            "count": 2
           }
          ]
         }
        },
        {
         "name": "worst perimeter",
         "dtype": "float64",
         "stats": {
          "unique_count": 5,
          "nan_count": 0,
          "min": "98.87",
          "max": "184.6",
          "histogram": [
           {
            "bin_start": 98.87,
            "bin_end": 107.443,
            "count": 1
           },
           {
            "bin_start": 107.443,
            "bin_end": 116.016,
            "count": 0
           },
           {
            "bin_start": 116.016,
            "bin_end": 124.589,
            "count": 0
           },
           {
            "bin_start": 124.589,
            "bin_end": 133.162,
            "count": 0
           },
           {
            "bin_start": 133.162,
            "bin_end": 141.735,
            "count": 0
           },
           {
            "bin_start": 141.735,
            "bin_end": 150.308,
            "count": 0
           },
           {
            "bin_start": 150.308,
            "bin_end": 158.881,
            "count": 3
           },
           {
            "bin_start": 158.881,
            "bin_end": 167.454,
            "count": 0
           },
           {
            "bin_start": 167.454,
            "bin_end": 176.027,
            "count": 0
           },
           {
            "bin_start": 176.027,
            "bin_end": 184.6,
            "count": 1
           }
          ]
         }
        },
        {
         "name": "worst area",
         "dtype": "float64",
         "stats": {
          "unique_count": 5,
          "nan_count": 0,
          "min": "567.7",
          "max": "2019.0",
          "histogram": [
           {
            "bin_start": 567.7,
            "bin_end": 712.83,
            "count": 1
           },
           {
            "bin_start": 712.83,
            "bin_end": 857.96,
            "count": 0
           },
           {
            "bin_start": 857.96,
            "bin_end": 1003.09,
            "count": 0
           },
           {
            "bin_start": 1003.09,
            "bin_end": 1148.22,
            "count": 0
           },
           {
            "bin_start": 1148.22,
            "bin_end": 1293.35,
            "count": 0
           },
           {
            "bin_start": 1293.35,
            "bin_end": 1438.48,
            "count": 0
           },
           {
            "bin_start": 1438.48,
            "bin_end": 1583.6100000000001,
            "count": 1
           },
           {
            "bin_start": 1583.6100000000001,
            "bin_end": 1728.74,
            "count": 1
           },
           {
            "bin_start": 1728.74,
            "bin_end": 1873.8700000000001,
            "count": 0
           },
           {
            "bin_start": 1873.8700000000001,
            "bin_end": 2019,
            "count": 2
           }
          ]
         }
        },
        {
         "name": "worst smoothness",
         "dtype": "float64",
         "stats": {
          "unique_count": 5,
          "nan_count": 0,
          "min": "0.1238",
          "max": "0.2098",
          "histogram": [
           {
            "bin_start": 0.1238,
            "bin_end": 0.1324,
            "count": 1
           },
           {
            "bin_start": 0.1324,
            "bin_end": 0.141,
            "count": 1
           },
           {
            "bin_start": 0.141,
            "bin_end": 0.14959999999999998,
            "count": 1
           },
           {
            "bin_start": 0.14959999999999998,
            "bin_end": 0.1582,
            "count": 0
           },
           {
            "bin_start": 0.1582,
            "bin_end": 0.1668,
            "count": 1
           },
           {
            "bin_start": 0.1668,
            "bin_end": 0.1754,
            "count": 0
           },
           {
            "bin_start": 0.1754,
            "bin_end": 0.184,
            "count": 0
           },
           {
            "bin_start": 0.184,
            "bin_end": 0.1926,
            "count": 0
           },
           {
            "bin_start": 0.1926,
            "bin_end": 0.2012,
            "count": 0
           },
           {
            "bin_start": 0.2012,
            "bin_end": 0.2098,
            "count": 1
           }
          ]
         }
        },
        {
         "name": "worst compactness",
         "dtype": "float64",
         "stats": {
          "unique_count": 5,
          "nan_count": 0,
          "min": "0.1866",
          "max": "0.8663",
          "histogram": [
           {
            "bin_start": 0.1866,
            "bin_end": 0.25456999999999996,
            "count": 2
           },
           {
            "bin_start": 0.25456999999999996,
            "bin_end": 0.32254,
            "count": 0
           },
           {
            "bin_start": 0.32254,
            "bin_end": 0.39051,
            "count": 0
           },
           {
            "bin_start": 0.39051,
            "bin_end": 0.45848,
            "count": 1
           },
           {
            "bin_start": 0.45848,
            "bin_end": 0.52645,
            "count": 0
           },
           {
            "bin_start": 0.52645,
            "bin_end": 0.59442,
            "count": 0
           },
           {
            "bin_start": 0.59442,
            "bin_end": 0.66239,
            "count": 0
           },
           {
            "bin_start": 0.66239,
            "bin_end": 0.73036,
            "count": 1
           },
           {
            "bin_start": 0.73036,
            "bin_end": 0.79833,
            "count": 0
           },
           {
            "bin_start": 0.79833,
            "bin_end": 0.8663,
            "count": 1
           }
          ]
         }
        },
        {
         "name": "worst concavity",
         "dtype": "float64",
         "stats": {
          "unique_count": 5,
          "nan_count": 0,
          "min": "0.2416",
          "max": "0.7119",
          "histogram": [
           {
            "bin_start": 0.2416,
            "bin_end": 0.28863,
            "count": 1
           },
           {
            "bin_start": 0.28863,
            "bin_end": 0.33566,
            "count": 0
           },
           {
            "bin_start": 0.33566,
            "bin_end": 0.38269,
            "count": 0
           },
           {
            "bin_start": 0.38269,
            "bin_end": 0.42972,
            "count": 1
           },
           {
            "bin_start": 0.42972,
            "bin_end": 0.47675,
            "count": 1
           },
           {
            "bin_start": 0.47675,
            "bin_end": 0.52378,
            "count": 0
           },
           {
            "bin_start": 0.52378,
            "bin_end": 0.5708099999999999,
            "count": 0
           },
           {
            "bin_start": 0.5708099999999999,
            "bin_end": 0.61784,
            "count": 0
           },
           {
            "bin_start": 0.61784,
            "bin_end": 0.66487,
            "count": 0
           },
           {
            "bin_start": 0.66487,
            "bin_end": 0.7119,
            "count": 2
           }
          ]
         }
        },
        {
         "name": "worst concave points",
         "dtype": "float64",
         "stats": {
          "unique_count": 5,
          "nan_count": 0,
          "min": "0.1625",
          "max": "0.2654",
          "histogram": [
           {
            "bin_start": 0.1625,
            "bin_end": 0.17279,
            "count": 1
           },
           {
            "bin_start": 0.17279,
            "bin_end": 0.18308000000000002,
            "count": 0
           },
           {
            "bin_start": 0.18308000000000002,
            "bin_end": 0.19337000000000001,
            "count": 1
           },
           {
            "bin_start": 0.19337000000000001,
            "bin_end": 0.20366,
            "count": 0
           },
           {
            "bin_start": 0.20366,
            "bin_end": 0.21395000000000003,
            "count": 0
           },
           {
            "bin_start": 0.21395000000000003,
            "bin_end": 0.22424000000000002,
            "count": 0
           },
           {
            "bin_start": 0.22424000000000002,
            "bin_end": 0.23453000000000002,
            "count": 0
           },
           {
            "bin_start": 0.23453000000000002,
            "bin_end": 0.24482000000000004,
            "count": 1
           },
           {
            "bin_start": 0.24482000000000004,
            "bin_end": 0.25511000000000006,
            "count": 0
           },
           {
            "bin_start": 0.25511000000000006,
            "bin_end": 0.2654,
            "count": 2
           }
          ]
         }
        },
        {
         "name": "worst symmetry",
         "dtype": "float64",
         "stats": {
          "unique_count": 5,
          "nan_count": 0,
          "min": "0.2364",
          "max": "0.6638",
          "histogram": [
           {
            "bin_start": 0.2364,
            "bin_end": 0.27914,
            "count": 2
           },
           {
            "bin_start": 0.27914,
            "bin_end": 0.32188,
            "count": 0
           },
           {
            "bin_start": 0.32188,
            "bin_end": 0.36461999999999994,
            "count": 1
           },
           {
            "bin_start": 0.36461999999999994,
            "bin_end": 0.40735999999999994,
            "count": 0
           },
           {
            "bin_start": 0.40735999999999994,
            "bin_end": 0.45009999999999994,
            "count": 0
           },
           {
            "bin_start": 0.45009999999999994,
            "bin_end": 0.49283999999999994,
            "count": 1
           },
           {
            "bin_start": 0.49283999999999994,
            "bin_end": 0.53558,
            "count": 0
           },
           {
            "bin_start": 0.53558,
            "bin_end": 0.57832,
            "count": 0
           },
           {
            "bin_start": 0.57832,
            "bin_end": 0.62106,
            "count": 0
           },
           {
            "bin_start": 0.62106,
            "bin_end": 0.6638,
            "count": 1
           }
          ]
         }
        },
        {
         "name": "worst fractal dimension",
         "dtype": "float64",
         "stats": {
          "unique_count": 5,
          "nan_count": 0,
          "min": "0.07678",
          "max": "0.173",
          "histogram": [
           {
            "bin_start": 0.07678,
            "bin_end": 0.086402,
            "count": 1
           },
           {
            "bin_start": 0.086402,
            "bin_end": 0.096024,
            "count": 2
           },
           {
            "bin_start": 0.096024,
            "bin_end": 0.10564599999999999,
            "count": 0
           },
           {
            "bin_start": 0.10564599999999999,
            "bin_end": 0.115268,
            "count": 0
           },
           {
            "bin_start": 0.115268,
            "bin_end": 0.12489,
            "count": 1
           },
           {
            "bin_start": 0.12489,
            "bin_end": 0.134512,
            "count": 0
           },
           {
            "bin_start": 0.134512,
            "bin_end": 0.14413399999999998,
            "count": 0
           },
           {
            "bin_start": 0.14413399999999998,
            "bin_end": 0.153756,
            "count": 0
           },
           {
            "bin_start": 0.153756,
            "bin_end": 0.16337799999999997,
            "count": 0
           },
           {
            "bin_start": 0.16337799999999997,
            "bin_end": 0.173,
            "count": 1
           }
          ]
         }
        },
        {
         "name": "Tumor",
         "dtype": "int64",
         "stats": {
          "unique_count": 1,
          "nan_count": 0,
          "min": "0",
          "max": "0",
          "histogram": [
           {
            "bin_start": -0.5,
            "bin_end": -0.4,
            "count": 0
           },
           {
            "bin_start": -0.4,
            "bin_end": -0.3,
            "count": 0
           },
           {
            "bin_start": -0.3,
            "bin_end": -0.19999999999999996,
            "count": 0
           },
           {
            "bin_start": -0.19999999999999996,
            "bin_end": -0.09999999999999998,
            "count": 0
           },
           {
            "bin_start": -0.09999999999999998,
            "bin_end": 0,
            "count": 0
           },
           {
            "bin_start": 0,
            "bin_end": 0.10000000000000009,
            "count": 5
           },
           {
            "bin_start": 0.10000000000000009,
            "bin_end": 0.20000000000000007,
            "count": 0
           },
           {
            "bin_start": 0.20000000000000007,
            "bin_end": 0.30000000000000004,
            "count": 0
           },
           {
            "bin_start": 0.30000000000000004,
            "bin_end": 0.4,
            "count": 0
           },
           {
            "bin_start": 0.4,
            "bin_end": 0.5,
            "count": 0
           }
          ]
         }
        },
        {
         "name": "_deepnote_index_column",
         "dtype": "int64"
        }
       ],
       "rows": [
        {
         "mean radius": 17.99,
         "mean texture": 10.38,
         "mean perimeter": 122.8,
         "mean area": 1001,
         "mean smoothness": 0.1184,
         "mean compactness": 0.2776,
         "mean concavity": 0.3001,
         "mean concave points": 0.1471,
         "mean symmetry": 0.2419,
         "mean fractal dimension": 0.07871,
         "radius error": 1.095,
         "texture error": 0.9053,
         "perimeter error": 8.589,
         "area error": 153.4,
         "smoothness error": 0.006399,
         "compactness error": 0.04904,
         "concavity error": 0.05373,
         "concave points error": 0.01587,
         "symmetry error": 0.03003,
         "fractal dimension error": 0.006193,
         "worst radius": 25.38,
         "worst texture": 17.33,
         "worst perimeter": 184.6,
         "worst area": 2019,
         "worst smoothness": 0.1622,
         "worst compactness": 0.6656,
         "worst concavity": 0.7119,
         "worst concave points": 0.2654,
         "worst symmetry": 0.4601,
         "worst fractal dimension": 0.1189,
         "Tumor": 0,
         "_deepnote_index_column": 0
        },
        {
         "mean radius": 20.57,
         "mean texture": 17.77,
         "mean perimeter": 132.9,
         "mean area": 1326,
         "mean smoothness": 0.08474,
         "mean compactness": 0.07864,
         "mean concavity": 0.0869,
         "mean concave points": 0.07017,
         "mean symmetry": 0.1812,
         "mean fractal dimension": 0.05667,
         "radius error": 0.5435,
         "texture error": 0.7339,
         "perimeter error": 3.398,
         "area error": 74.08,
         "smoothness error": 0.005225,
         "compactness error": 0.01308,
         "concavity error": 0.0186,
         "concave points error": 0.0134,
         "symmetry error": 0.01389,
         "fractal dimension error": 0.003532,
         "worst radius": 24.99,
         "worst texture": 23.41,
         "worst perimeter": 158.8,
         "worst area": 1956,
         "worst smoothness": 0.1238,
         "worst compactness": 0.1866,
         "worst concavity": 0.2416,
         "worst concave points": 0.186,
         "worst symmetry": 0.275,
         "worst fractal dimension": 0.08902,
         "Tumor": 0,
         "_deepnote_index_column": 1
        },
        {
         "mean radius": 19.69,
         "mean texture": 21.25,
         "mean perimeter": 130,
         "mean area": 1203,
         "mean smoothness": 0.1096,
         "mean compactness": 0.1599,
         "mean concavity": 0.1974,
         "mean concave points": 0.1279,
         "mean symmetry": 0.2069,
         "mean fractal dimension": 0.05999,
         "radius error": 0.7456,
         "texture error": 0.7869,
         "perimeter error": 4.585,
         "area error": 94.03,
         "smoothness error": 0.00615,
         "compactness error": 0.04006,
         "concavity error": 0.03832,
         "concave points error": 0.02058,
         "symmetry error": 0.0225,
         "fractal dimension error": 0.004571,
         "worst radius": 23.57,
         "worst texture": 25.53,
         "worst perimeter": 152.5,
         "worst area": 1709,
         "worst smoothness": 0.1444,
         "worst compactness": 0.4245,
         "worst concavity": 0.4504,
         "worst concave points": 0.243,
         "worst symmetry": 0.3613,
         "worst fractal dimension": 0.08758,
         "Tumor": 0,
         "_deepnote_index_column": 2
        },
        {
         "mean radius": 11.42,
         "mean texture": 20.38,
         "mean perimeter": 77.58,
         "mean area": 386.1,
         "mean smoothness": 0.1425,
         "mean compactness": 0.2839,
         "mean concavity": 0.2414,
         "mean concave points": 0.1052,
         "mean symmetry": 0.2597,
         "mean fractal dimension": 0.09744,
         "radius error": 0.4956,
         "texture error": 1.156,
         "perimeter error": 3.445,
         "area error": 27.23,
         "smoothness error": 0.00911,
         "compactness error": 0.07458,
         "concavity error": 0.05661,
         "concave points error": 0.01867,
         "symmetry error": 0.05963,
         "fractal dimension error": 0.009208,
         "worst radius": 14.91,
         "worst texture": 26.5,
         "worst perimeter": 98.87,
         "worst area": 567.7,
         "worst smoothness": 0.2098,
         "worst compactness": 0.8663,
         "worst concavity": 0.6869,
         "worst concave points": 0.2575,
         "worst symmetry": 0.6638,
         "worst fractal dimension": 0.173,
         "Tumor": 0,
         "_deepnote_index_column": 3
        },
        {
         "mean radius": 20.29,
         "mean texture": 14.34,
         "mean perimeter": 135.1,
         "mean area": 1297,
         "mean smoothness": 0.1003,
         "mean compactness": 0.1328,
         "mean concavity": 0.198,
         "mean concave points": 0.1043,
         "mean symmetry": 0.1809,
         "mean fractal dimension": 0.05883,
         "radius error": 0.7572,
         "texture error": 0.7813,
         "perimeter error": 5.438,
         "area error": 94.44,
         "smoothness error": 0.01149,
         "compactness error": 0.02461,
         "concavity error": 0.05688,
         "concave points error": 0.01885,
         "symmetry error": 0.01756,
         "fractal dimension error": 0.005115,
         "worst radius": 22.54,
         "worst texture": 16.67,
         "worst perimeter": 152.2,
         "worst area": 1575,
         "worst smoothness": 0.1374,
         "worst compactness": 0.205,
         "worst concavity": 0.4,
         "worst concave points": 0.1625,
         "worst symmetry": 0.2364,
         "worst fractal dimension": 0.07678,
         "Tumor": 0,
         "_deepnote_index_column": 4
        }
       ]
      },
      "text/plain": "   mean radius  mean texture  mean perimeter  mean area  mean smoothness  \\\n0        17.99         10.38          122.80     1001.0          0.11840   \n1        20.57         17.77          132.90     1326.0          0.08474   \n2        19.69         21.25          130.00     1203.0          0.10960   \n3        11.42         20.38           77.58      386.1          0.14250   \n4        20.29         14.34          135.10     1297.0          0.10030   \n\n   mean compactness  mean concavity  mean concave points  mean symmetry  \\\n0           0.27760          0.3001              0.14710         0.2419   \n1           0.07864          0.0869              0.07017         0.1812   \n2           0.15990          0.1974              0.12790         0.2069   \n3           0.28390          0.2414              0.10520         0.2597   \n4           0.13280          0.1980              0.10430         0.1809   \n\n   mean fractal dimension  ...  worst texture  worst perimeter  worst area  \\\n0                 0.07871  ...          17.33           184.60      2019.0   \n1                 0.05667  ...          23.41           158.80      1956.0   \n2                 0.05999  ...          25.53           152.50      1709.0   \n3                 0.09744  ...          26.50            98.87       567.7   \n4                 0.05883  ...          16.67           152.20      1575.0   \n\n   worst smoothness  worst compactness  worst concavity  worst concave points  \\\n0            0.1622             0.6656           0.7119                0.2654   \n1            0.1238             0.1866           0.2416                0.1860   \n2            0.1444             0.4245           0.4504                0.2430   \n3            0.2098             0.8663           0.6869                0.2575   \n4            0.1374             0.2050           0.4000                0.1625   \n\n   worst symmetry  worst fractal dimension  Tumor  \n0          0.4601                  0.11890      0  \n1          0.2750                  0.08902      0  \n2          0.3613                  0.08758      0  \n3          0.6638                  0.17300      0  \n4          0.2364                  0.07678      0  \n\n[5 rows x 31 columns]",
      "text/html": "<div>\n<style scoped>\n    .dataframe tbody tr th:only-of-type {\n        vertical-align: middle;\n    }\n\n    .dataframe tbody tr th {\n        vertical-align: top;\n    }\n\n    .dataframe thead th {\n        text-align: right;\n    }\n</style>\n<table border=\"1\" class=\"dataframe\">\n  <thead>\n    <tr style=\"text-align: right;\">\n      <th></th>\n      <th>mean radius</th>\n      <th>mean texture</th>\n      <th>mean perimeter</th>\n      <th>mean area</th>\n      <th>mean smoothness</th>\n      <th>mean compactness</th>\n      <th>mean concavity</th>\n      <th>mean concave points</th>\n      <th>mean symmetry</th>\n      <th>mean fractal dimension</th>\n      <th>...</th>\n      <th>worst texture</th>\n      <th>worst perimeter</th>\n      <th>worst area</th>\n      <th>worst smoothness</th>\n      <th>worst compactness</th>\n      <th>worst concavity</th>\n      <th>worst concave points</th>\n      <th>worst symmetry</th>\n      <th>worst fractal dimension</th>\n      <th>Tumor</th>\n    </tr>\n  </thead>\n  <tbody>\n    <tr>\n      <th>0</th>\n      <td>17.99</td>\n      <td>10.38</td>\n      <td>122.80</td>\n      <td>1001.0</td>\n      <td>0.11840</td>\n      <td>0.27760</td>\n      <td>0.3001</td>\n      <td>0.14710</td>\n      <td>0.2419</td>\n      <td>0.07871</td>\n      <td>...</td>\n      <td>17.33</td>\n      <td>184.60</td>\n      <td>2019.0</td>\n      <td>0.1622</td>\n      <td>0.6656</td>\n      <td>0.7119</td>\n      <td>0.2654</td>\n      <td>0.4601</td>\n      <td>0.11890</td>\n      <td>0</td>\n    </tr>\n    <tr>\n      <th>1</th>\n      <td>20.57</td>\n      <td>17.77</td>\n      <td>132.90</td>\n      <td>1326.0</td>\n      <td>0.08474</td>\n      <td>0.07864</td>\n      <td>0.0869</td>\n      <td>0.07017</td>\n      <td>0.1812</td>\n      <td>0.05667</td>\n      <td>...</td>\n      <td>23.41</td>\n      <td>158.80</td>\n      <td>1956.0</td>\n      <td>0.1238</td>\n      <td>0.1866</td>\n      <td>0.2416</td>\n      <td>0.1860</td>\n      <td>0.2750</td>\n      <td>0.08902</td>\n      <td>0</td>\n    </tr>\n    <tr>\n      <th>2</th>\n      <td>19.69</td>\n      <td>21.25</td>\n      <td>130.00</td>\n      <td>1203.0</td>\n      <td>0.10960</td>\n      <td>0.15990</td>\n      <td>0.1974</td>\n      <td>0.12790</td>\n      <td>0.2069</td>\n      <td>0.05999</td>\n      <td>...</td>\n      <td>25.53</td>\n      <td>152.50</td>\n      <td>1709.0</td>\n      <td>0.1444</td>\n      <td>0.4245</td>\n      <td>0.4504</td>\n      <td>0.2430</td>\n      <td>0.3613</td>\n      <td>0.08758</td>\n      <td>0</td>\n    </tr>\n    <tr>\n      <th>3</th>\n      <td>11.42</td>\n      <td>20.38</td>\n      <td>77.58</td>\n      <td>386.1</td>\n      <td>0.14250</td>\n      <td>0.28390</td>\n      <td>0.2414</td>\n      <td>0.10520</td>\n      <td>0.2597</td>\n      <td>0.09744</td>\n      <td>...</td>\n      <td>26.50</td>\n      <td>98.87</td>\n      <td>567.7</td>\n      <td>0.2098</td>\n      <td>0.8663</td>\n      <td>0.6869</td>\n      <td>0.2575</td>\n      <td>0.6638</td>\n      <td>0.17300</td>\n      <td>0</td>\n    </tr>\n    <tr>\n      <th>4</th>\n      <td>20.29</td>\n      <td>14.34</td>\n      <td>135.10</td>\n      <td>1297.0</td>\n      <td>0.10030</td>\n      <td>0.13280</td>\n      <td>0.1980</td>\n      <td>0.10430</td>\n      <td>0.1809</td>\n      <td>0.05883</td>\n      <td>...</td>\n      <td>16.67</td>\n      <td>152.20</td>\n      <td>1575.0</td>\n      <td>0.1374</td>\n      <td>0.2050</td>\n      <td>0.4000</td>\n      <td>0.1625</td>\n      <td>0.2364</td>\n      <td>0.07678</td>\n      <td>0</td>\n    </tr>\n  </tbody>\n</table>\n<p>5 rows × 31 columns</p>\n</div>"
     },
     "metadata": {}
    }
   ],
   "execution_count": 9
  },
  {
   "cell_type": "code",
   "source": "df_cancer['Tumor'].unique()",
   "metadata": {
    "cell_id": "3f987c78-3ab0-47af-954a-aaa2745c3e08",
    "tags": [],
    "deepnote_to_be_reexecuted": false,
    "source_hash": "1b8c66de",
    "execution_start": 1646662580644,
    "execution_millis": 10,
    "deepnote_cell_type": "code"
   },
   "outputs": [
    {
     "output_type": "execute_result",
     "execution_count": 8,
     "data": {
      "text/plain": "array([0, 1])"
     },
     "metadata": {}
    }
   ],
   "execution_count": 8
  },
  {
   "cell_type": "code",
   "source": "sns.histplot(df_cancer['Tumor'])",
   "metadata": {
    "cell_id": "81d8fcec-cd0e-48ad-a927-8170e3275d92",
    "tags": [],
    "deepnote_to_be_reexecuted": false,
    "source_hash": "e1fa90b2",
    "execution_start": 1646662915171,
    "execution_millis": 169,
    "deepnote_cell_type": "code"
   },
   "outputs": [
    {
     "output_type": "execute_result",
     "execution_count": 14,
     "data": {
      "text/plain": "<AxesSubplot:xlabel='Tumor', ylabel='Count'>"
     },
     "metadata": {}
    },
    {
     "data": {
      "text/plain": "<Figure size 432x288 with 1 Axes>",
      "image/png": "[encoded data removed]"
     },
     "metadata": {
      "needs_background": "light",
      "image/png": {
       "width": 389,
       "height": 262
      }
     },
     "output_type": "display_data"
    }
   ],
   "execution_count": 14
  },
  {
   "cell_type": "markdown",
   "source": "### Model Training and Validation",
   "metadata": {
    "cell_id": "2c8e216d-9e45-447a-bfcd-0b3ae42ed79a",
    "tags": [],
    "deepnote_cell_type": "markdown"
   }
  },
  {
   "cell_type": "code",
   "metadata": {
    "cell_id": "d0921eb1-3e82-4241-91f4-b3c2f2adf697",
    "tags": [],
    "deepnote_to_be_reexecuted": false,
    "source_hash": "1b94ac9b",
    "execution_start": 1646662499471,
    "execution_millis": 397,
    "deepnote_cell_type": "code"
   },
   "source": "#Importing libraries\nfrom sklearn.neighbors import KNeighborsClassifier\nfrom sklearn.model_selection import cross_val_score\nfrom sklearn.metrics import roc_auc_score\n\n#Definition of input variables\nX = df_cancer.drop(columns='Tumor')\n#Definition of output variable\ny = df_cancer['Tumor']\n\nknn = KNeighborsClassifier(n_neighbors=20)\n\nscores = cross_val_score(knn, X, y, cv=10, scoring='accuracy')\nprint(scores)\nprint(\"Accuracy: \",scores.mean())\n\nscores = cross_val_score(knn, X, y, cv=10, scoring='recall')\nprint(\"Recall: \",scores.mean())\n\nscores = cross_val_score(knn, X, y, cv=10, scoring='roc_auc')\nprint(\"Roc_auc: \",scores.mean())",
   "execution_count": 6,
   "outputs": [
    {
     "name": "stdout",
     "text": "[0.87719298 0.85964912 0.9122807  0.96491228 0.94736842 0.94736842\n 0.96491228 0.94736842 0.92982456 0.94642857]\nAccuracy:  0.9297305764411027\nRecall:  0.9692063492063492\nRoc_auc:  0.9748532948532949\n",
     "output_type": "stream"
    }
   ]
  },
  {
   "cell_type": "code",
   "metadata": {
    "cell_id": "19104bd9-78d9-4ebe-9a1d-6b335dbb55ef",
    "tags": [],
    "deepnote_to_be_reexecuted": false,
    "source_hash": "a0e7b5d7",
    "execution_start": 1646662341984,
    "execution_millis": 4601,
    "deepnote_cell_type": "code"
   },
   "source": "from sklearn.model_selection import GridSearchCV\n\ngrid_values = {'n_neighbors': list(range(1, 31))}\n\nknn = KNeighborsClassifier()\n\n# default metric to optimize over grid parameters: accuracy\ngrid = GridSearchCV(knn, grid_values, cv=10, scoring='f1')\ngrid.fit(X, y)\n\n# Best estimators\nprint(\"Best KNN neighbors: \",grid.best_estimator_)\nprint('Best KNN f1 score: %.3f' % np.abs(grid.best_score_))",
   "execution_count": 3,
   "outputs": [
    {
     "name": "stdout",
     "text": "Best KNN neighbors:  KNeighborsClassifier(n_neighbors=19)\nBest KNN f1 score: 0.947\n",
     "output_type": "stream"
    }
   ]
  },
  {
   "cell_type": "code",
   "metadata": {
    "cell_id": "d198616c-fa4b-41fd-964c-bba5a0c2a98f",
    "tags": [],
    "deepnote_to_be_reexecuted": false,
    "source_hash": "fbcde3b",
    "execution_start": 1646662346587,
    "execution_millis": 75,
    "deepnote_cell_type": "code"
   },
   "source": "knn = KNeighborsClassifier(n_neighbors=20)\nknn.fit(X,y)\nknn.predict(X)",
   "execution_count": 4,
   "outputs": [
    {
     "output_type": "execute_result",
     "execution_count": 4,
     "data": {
      "text/plain": "array([0, 0, 0, 1, 0, 1, 0, 0, 1, 1, 0, 0, 0, 0, 1, 0, 0, 0, 0, 1, 1, 1,\n       0, 0, 0, 0, 1, 0, 0, 0, 0, 0, 0, 0, 0, 0, 1, 1, 1, 1, 0, 1, 0, 0,\n       1, 0, 1, 1, 1, 1, 1, 1, 1, 0, 0, 1, 0, 0, 1, 1, 1, 1, 0, 1, 0, 0,\n       1, 1, 1, 1, 0, 1, 0, 0, 1, 0, 1, 0, 0, 1, 1, 1, 0, 0, 1, 0, 1, 0,\n       1, 1, 1, 1, 0, 1, 0, 0, 1, 1, 1, 1, 0, 1, 1, 1, 1, 0, 1, 1, 0, 1,\n       1, 1, 1, 1, 1, 1, 1, 0, 0, 0, 1, 0, 0, 1, 1, 1, 0, 0, 1, 0, 1, 0,\n       0, 0, 0, 1, 1, 1, 0, 1, 1, 0, 1, 1, 1, 1, 1, 1, 1, 1, 1, 1, 1, 1,\n       1, 1, 0, 0, 1, 1, 1, 0, 0, 1, 0, 1, 1, 0, 0, 1, 1, 0, 0, 1, 1, 1,\n       1, 0, 1, 1, 0, 0, 0, 1, 0, 1, 0, 1, 1, 1, 1, 1, 1, 0, 1, 1, 0, 0,\n       0, 0, 1, 0, 0, 0, 1, 0, 1, 0, 1, 0, 0, 1, 0, 0, 0, 1, 1, 1, 0, 0,\n       1, 1, 1, 0, 1, 1, 1, 1, 1, 1, 0, 1, 1, 0, 1, 1, 0, 0, 1, 0, 1, 1,\n       1, 1, 0, 1, 1, 1, 1, 1, 0, 1, 0, 0, 0, 0, 0, 0, 0, 0, 0, 0, 0, 0,\n       0, 0, 1, 1, 1, 1, 1, 1, 0, 1, 0, 1, 1, 0, 1, 1, 0, 1, 0, 0, 1, 1,\n       1, 1, 1, 1, 1, 1, 1, 1, 1, 1, 1, 1, 1, 1, 0, 1, 0, 1, 1, 1, 1, 1,\n       1, 1, 1, 1, 1, 1, 1, 1, 1, 0, 1, 1, 1, 0, 1, 0, 1, 1, 1, 1, 0, 0,\n       0, 1, 1, 1, 1, 0, 1, 0, 1, 0, 1, 1, 1, 0, 1, 1, 1, 1, 1, 1, 1, 0,\n       0, 0, 1, 1, 1, 1, 1, 1, 1, 1, 1, 0, 1, 0, 0, 1, 0, 0, 0, 1, 0, 0,\n       1, 1, 1, 1, 1, 1, 1, 1, 1, 1, 1, 1, 1, 1, 1, 0, 1, 1, 0, 0, 1, 1,\n       1, 1, 1, 1, 0, 1, 1, 1, 1, 1, 0, 1, 0, 1, 1, 1, 1, 1, 0, 1, 1, 0,\n       1, 1, 1, 1, 1, 1, 1, 1, 1, 1, 1, 1, 1, 1, 0, 0, 1, 0, 1, 1, 1, 1,\n       1, 0, 1, 1, 0, 1, 0, 1, 1, 0, 1, 0, 1, 1, 1, 1, 1, 1, 1, 1, 0, 0,\n       1, 1, 1, 1, 1, 1, 0, 1, 1, 1, 0, 1, 1, 1, 1, 1, 1, 0, 1, 0, 1, 1,\n       1, 1, 1, 0, 1, 0, 1, 0, 0, 1, 1, 1, 1, 1, 0, 0, 1, 0, 1, 0, 1, 1,\n       1, 1, 0, 0, 1, 1, 0, 1, 0, 1, 0, 0, 1, 1, 1, 0, 1, 1, 1, 1, 1, 1,\n       1, 1, 1, 1, 1, 0, 1, 0, 1, 1, 1, 1, 1, 1, 1, 1, 1, 1, 1, 1, 1, 1,\n       1, 1, 1, 1, 1, 1, 1, 1, 1, 1, 1, 1, 0, 0, 0, 0, 0, 0, 1])"
     },
     "metadata": {}
    }
   ]
  },
  {
   "cell_type": "markdown",
   "source": "<a style='text-decoration:none;line-height:16px;display:flex;color:#5B5B62;padding:10px;justify-content:end;' href='https://deepnote.com?utm_source=created-in-deepnote-cell&projectId=96262903-a28f-4719-a328-dc59e3cfa77f' target=\"_blank\">\n<img alt='Created in deepnote.com' style='display:inline;max-height:16px;margin:0px;margin-right:7.5px;' src='data:image/svg+xml;base64,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' > </img>\nCreated in <span style='font-weight:600;margin-left:4px;'>Deepnote</span></a>",
   "metadata": {
    "tags": [],
    "created_in_deepnote_cell": true,
    "deepnote_cell_type": "markdown"
   }
  }
 ],
 "nbformat": 4,
 "nbformat_minor": 2,
 "metadata": {
  "orig_nbformat": 2,
  "deepnote": {
   "is_reactive": false
  },
  "deepnote_notebook_id": "ac42fa70-756d-4681-ae74-e03f118ede01",
  "deepnote_execution_queue": []
 }
}